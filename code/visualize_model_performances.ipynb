{
  "nbformat": 4,
  "nbformat_minor": 0,
  "metadata": {
    "colab": {
      "name": "visualize_model_performances.ipynb",
      "provenance": [],
      "collapsed_sections": []
    },
    "kernelspec": {
      "name": "python3",
      "display_name": "Python 3"
    },
    "language_info": {
      "name": "python"
    }
  },
  "cells": [
    {
      "cell_type": "code",
      "execution_count": null,
      "metadata": {
        "id": "tYUSC7fMN3cb"
      },
      "outputs": [],
      "source": [
        "# install required libraries\n",
        "!pip install -q rasterio==1.2.10\n",
        "!pip install -q geopandas==0.10.2\n",
        "!pip install -q git+https://github.com/tensorflow/examples.git\n",
        "!pip install -q -U tfds-nightly\n",
        "!pip install -q focal-loss\n",
        "!pip install -q tensorflow-addons==0.8.3\n",
        "#!pip install -q matplotlib==3.5 # UNCOMMENT if running on LOCAL\n",
        "!pip install -q scikit-learn==1.0.1\n",
        "!pip install -q scikit-image==0.18.3\n",
        "!pip install -q boto3"
      ]
    },
    {
      "cell_type": "code",
      "source": [
        "# import required libraries\n",
        "import os, glob, functools, fnmatch\n",
        "from zipfile import ZipFile\n",
        "from itertools import product\n",
        "\n",
        "import numpy as np\n",
        "import matplotlib.pyplot as plt\n",
        "import matplotlib as mpl\n",
        "import matplotlib.image as mpimg\n",
        "mpl.rcParams['axes.grid'] = False\n",
        "mpl.rcParams['figure.figsize'] = (12,12)\n",
        "import matplotlib.image as mpimg\n",
        "from matplotlib.colors import ListedColormap\n",
        "\n",
        "import pandas as pd\n",
        "from PIL import Image\n",
        "import geopandas as gpd\n",
        "from IPython.display import clear_output\n",
        "from time import sleep\n",
        "\n",
        "import skimage.io as skio # lighter dependency than tensorflow for working with our tensors/arrays\n",
        "from sklearn.metrics import confusion_matrix, f1_score\n",
        "\n",
        "import boto3 \n",
        "\n",
        "import io\n",
        "from configparser import ConfigParser"
      ],
      "metadata": {
        "id": "EcmUeMD2N_kp"
      },
      "execution_count": 39,
      "outputs": []
    },
    {
      "cell_type": "code",
      "source": [
        "%matplotlib inline"
      ],
      "metadata": {
        "id": "xTC8W-cHRaL5"
      },
      "execution_count": 13,
      "outputs": []
    },
    {
      "cell_type": "code",
      "source": [
        "from google.colab import drive\n",
        "drive.mount('/content/gdrive')"
      ],
      "metadata": {
        "colab": {
          "base_uri": "https://localhost:8080/"
        },
        "id": "hfYmDKlMPWi_",
        "outputId": "543c0b8b-53fa-4813-a960-cfe6a37e1e7a"
      },
      "execution_count": 3,
      "outputs": [
        {
          "output_type": "stream",
          "name": "stdout",
          "text": [
            "Mounted at /content/gdrive\n"
          ]
        }
      ]
    },
    {
      "cell_type": "code",
      "source": [
        "# authenticate with AWS credentials\n",
        "config = ConfigParser()\n",
        "configFilePath = 'access_keys.csv'\n",
        "with open(configFilePath) as f:\n",
        "    config.read_file(f)\n",
        "AWS_ACCESS_KEY_ID = config.get('credentials', 'AWS_ACCESS_KEY_ID')\n",
        "AWS_SECRET_ACCESS_KEY = config.get('credentials', 'AWS_SECRET_ACCESS_KEY')\n",
        "\n",
        "\n",
        "s3 = boto3.resource('s3',\n",
        "                    aws_access_key_id=AWS_ACCESS_KEY_ID,\n",
        "                    aws_secret_access_key=AWS_SECRET_ACCESS_KEY)"
      ],
      "metadata": {
        "id": "LDLbCHP1OwIQ"
      },
      "execution_count": 10,
      "outputs": []
    },
    {
      "cell_type": "code",
      "source": [
        "def image_from_s3(bucket, key):\n",
        "    bucket = s3.Bucket(bucket)\n",
        "    image = bucket.Object(key)\n",
        "    img_data = image.get().get('Body').read()\n",
        "    return Image.open(io.BytesIO(img_data)) "
      ],
      "metadata": {
        "id": "H45EQfTjQWao"
      },
      "execution_count": 11,
      "outputs": []
    },
    {
      "cell_type": "code",
      "source": [
        "def iterate_bucket_items(bucket):\n",
        "    \"\"\"\n",
        "    Generator that iterates over all objects in a given s3 bucket\n",
        "    See http://boto3.readthedocs.io/en/latest/reference/services/s3.html#S3.Client.list_objects_v2 \n",
        "    for return data format\n",
        "    :param bucket: name of s3 bucket\n",
        "    :return: dict of metadata for an object\n",
        "    \"\"\"\n",
        "\n",
        "\n",
        "    client = client = boto3.client('s3',aws_access_key_id=AWS_ACCESS_KEY_ID,aws_secret_access_key=AWS_SECRET_ACCESS_KEY)\n",
        "    paginator = client.get_paginator('list_objects_v2')\n",
        "    page_iterator = paginator.paginate(Bucket = bucket)\n",
        "\n",
        "    for page in page_iterator:\n",
        "        if page['KeyCount'] > 0:\n",
        "            for item in page['Contents']:\n",
        "                yield item\n"
      ],
      "metadata": {
        "id": "iY11gRmTQgGF"
      },
      "execution_count": 14,
      "outputs": []
    },
    {
      "cell_type": "code",
      "source": [
        "items_s3 = []\n",
        "urls_s3 = []\n",
        "items_urls_s3 = []\n",
        "\n",
        "for i in iterate_bucket_items(bucket='veda-ai-supraglacial-meltponds'):\n",
        "    bucket='veda-ai-supraglacial-meltponds'\n",
        "    ik = i[\"Key\"]\n",
        "    items_s3.append(ik)\n",
        "    url = 's3://'+str(bucket)+'/'+str(ik)\n",
        "    urls_s3.append(url)\n",
        "    item_url = (ik, url)\n",
        "    items_urls_s3.append(item_url)"
      ],
      "metadata": {
        "id": "2yku_2h1Qhpf"
      },
      "execution_count": 15,
      "outputs": []
    },
    {
      "cell_type": "code",
      "source": [
        "ps_imgs_dir = './planetscope/'"
      ],
      "metadata": {
        "id": "i67zNG5cVX9r"
      },
      "execution_count": 28,
      "outputs": []
    },
    {
      "cell_type": "code",
      "source": [
        "ps_imgs = glob.glob(f'{ps_imgs_dir}*.png')"
      ],
      "metadata": {
        "id": "cReNoprBXlKF"
      },
      "execution_count": null,
      "outputs": []
    },
    {
      "cell_type": "code",
      "source": [
        "label_dict = {0: 'background',\n",
        "              1: 'snow',\n",
        "              2: 'dark_ice',\n",
        "              3: 'melt_ponds',\n",
        "              4: 'open_water',\n",
        "              5: 'ridge_shadpows'}\n",
        "color_dict = {0: 'black',\n",
        "              1: 'white',\n",
        "              2: 'grey',\n",
        "              3: 'red',\n",
        "              4: 'blue',\n",
        "              5: 'darkgrey'}"
      ],
      "metadata": {
        "id": "BhyGgQtncZJD"
      },
      "execution_count": 37,
      "outputs": []
    },
    {
      "cell_type": "code",
      "source": [
        "num_labels = len(color_dict)\n",
        "incorrect_color_data = np.array([2, 3, 4, 2, 3, 4]) * np.ones((num_labels, num_labels))\n",
        "\n",
        "cmapm = ListedColormap(color_dict.values())\n",
        "imin = min(label_dict)\n",
        "imax = max(label_dict)"
      ],
      "metadata": {
        "id": "pKqtsClwdE5T"
      },
      "execution_count": 46,
      "outputs": []
    },
    {
      "cell_type": "code",
      "source": [
        "plot_dir = './plots_model_v1/'\n",
        "if (not os.path.isdir(plot_dir)):\n",
        "  os.mkdir(plot_dir)\n",
        "for i_url in items_urls_s3:\n",
        "    substring = \"predictions_test_focal_loss_planetscope_96\"\n",
        "    substring1 = \".png\" \n",
        "    if substring in str(i_url) and substring1 in str(i_url):\n",
        "        i = i_url[0]\n",
        "        url = i_url[1]\n",
        "        image_in_mem = image_from_s3(\"veda-ai-supraglacial-meltponds\", str(i))\n",
        "        filename_split = os.path.splitext(i) \n",
        "        filename_zero, fileext = filename_split \n",
        "        basename = os.path.basename(filename_zero) \n",
        "        img_ps = np.array(Image.open(f'{ps_imgs_dir}/{basename}.png'))\n",
        "        img_pred = np.array(image_in_mem)\n",
        "        if 3 in np.unique(img_pred):\n",
        "          print(basename)\n",
        "\n",
        "          fig = plt.figure(figsize=(12, 12))\n",
        "\n",
        "          ax_0 = plt.subplot(121)\n",
        "          cax = ax_0.imshow(img_ps)\n",
        "\n",
        "          ax_1 = plt.subplot(122)\n",
        "          cm = ListedColormap(color_dict.values())\n",
        "          cax = ax_1.imshow(img_pred, cmap=cmapm, interpolation='none', vmin=imin, vmax=imax)\n",
        "          cbar = fig.colorbar(cax, ticks=np.linspace(imin, imax, 2 * num_labels + 1)[1::2], shrink=0.45, ax=ax_1)\n",
        "          cbar.ax.set_yticklabels(label_dict.values())\n",
        "          #plt.show() \n",
        "          plt.savefig(f'{plot_dir}{basename}_vals.png')"
      ],
      "metadata": {
        "id": "G-EZle5bh9qn"
      },
      "execution_count": null,
      "outputs": []
    }
  ]
}